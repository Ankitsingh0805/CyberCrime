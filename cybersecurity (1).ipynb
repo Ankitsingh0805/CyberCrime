{
 "cells": [
  {
   "cell_type": "code",
   "execution_count": 11,
   "metadata": {
    "_cell_guid": "b1076dfc-b9ad-4769-8c92-a6c4dae69d19",
    "_uuid": "8f2839f25d086af736a60e9eeb907d3b93b6e0e5",
    "editable": false,
    "execution": {
     "iopub.execute_input": "2023-12-14T07:52:43.153342Z",
     "iopub.status.busy": "2023-12-14T07:52:43.152754Z",
     "iopub.status.idle": "2023-12-14T07:52:43.170941Z",
     "shell.execute_reply": "2023-12-14T07:52:43.169145Z",
     "shell.execute_reply.started": "2023-12-14T07:52:43.153298Z"
    }
   },
   "outputs": [
    {
     "name": "stdout",
     "output_type": "stream",
     "text": [
      "/kaggle/input/crime-data/crime data.csv\n"
     ]
    }
   ],
   "source": [
    "# This Python 3 environment comes with many helpful analytics libraries installed\n",
    "# It is defined by the kaggle/python Docker image: https://github.com/kaggle/docker-python\n",
    "# For example, here's several helpful packages to load\n",
    "\n",
    "import numpy as np # linear algebra\n",
    "import pandas as pd # data processing, CSV file I/O (e.g. pd.read_csv)\n",
    "\n",
    "# Input data files are available in the read-only \"../input/\" directory\n",
    "# For example, running this (by clicking run or pressing Shift+Enter) will list all files under the input directory\n",
    "\n",
    "import os\n",
    "for dirname, _, filenames in os.walk('/kaggle/input'):\n",
    "    for filename in filenames:\n",
    "        print(os.path.join(dirname, filename))\n",
    "\n",
    "# You can write up to 20GB to the current directory (/kaggle/working/) that gets preserved as output when you create a version using \"Save & Run All\" \n",
    "# You can also write temporary files to /kaggle/temp/, but they won't be saved outside of the current session"
   ]
  },
  {
   "cell_type": "code",
   "execution_count": 12,
   "metadata": {
    "editable": false,
    "execution": {
     "iopub.execute_input": "2023-12-14T07:52:43.175122Z",
     "iopub.status.busy": "2023-12-14T07:52:43.174262Z",
     "iopub.status.idle": "2023-12-14T07:52:43.184941Z",
     "shell.execute_reply": "2023-12-14T07:52:43.183353Z",
     "shell.execute_reply.started": "2023-12-14T07:52:43.175073Z"
    }
   },
   "outputs": [],
   "source": [
    "import pandas as pd\n",
    "import numpy as np\n",
    "from sklearn.feature_extraction.text import TfidfVectorizer\n",
    "from sklearn.neighbors import NearestNeighbors\n",
    "\n",
    "from keras.preprocessing.sequence import pad_sequences\n",
    "from keras.models import Sequential\n",
    "from keras.layers import Embedding, LSTM, Dense\n",
    "\n",
    "from sklearn.model_selection import train_test_split\n",
    "from tensorflow.keras.models import Model\n",
    "from tensorflow.keras.layers import Input, Embedding, LSTM, Dense, Attention\n",
    "from tensorflow.keras.preprocessing.text import Tokenizer\n",
    "from tensorflow.keras.preprocessing.sequence import pad_sequences\n"
   ]
  },
  {
   "cell_type": "code",
   "execution_count": 13,
   "metadata": {
    "editable": false,
    "execution": {
     "iopub.execute_input": "2023-12-14T07:52:43.188076Z",
     "iopub.status.busy": "2023-12-14T07:52:43.187117Z",
     "iopub.status.idle": "2023-12-14T07:52:43.218014Z",
     "shell.execute_reply": "2023-12-14T07:52:43.217029Z",
     "shell.execute_reply.started": "2023-12-14T07:52:43.188027Z"
    }
   },
   "outputs": [],
   "source": [
    "data = pd.read_csv('/kaggle/input/crime-data/crime data.csv')"
   ]
  },
  {
   "cell_type": "code",
   "execution_count": 14,
   "metadata": {
    "_kg_hide-input": true,
    "editable": false,
    "execution": {
     "iopub.execute_input": "2023-12-14T07:52:43.222243Z",
     "iopub.status.busy": "2023-12-14T07:52:43.221711Z",
     "iopub.status.idle": "2023-12-14T07:52:43.252301Z",
     "shell.execute_reply": "2023-12-14T07:52:43.250967Z",
     "shell.execute_reply.started": "2023-12-14T07:52:43.222196Z"
    }
   },
   "outputs": [
    {
     "data": {
      "text/html": [
       "<div>\n",
       "<style scoped>\n",
       "    .dataframe tbody tr th:only-of-type {\n",
       "        vertical-align: middle;\n",
       "    }\n",
       "\n",
       "    .dataframe tbody tr th {\n",
       "        vertical-align: top;\n",
       "    }\n",
       "\n",
       "    .dataframe thead th {\n",
       "        text-align: right;\n",
       "    }\n",
       "</style>\n",
       "<table border=\"1\" class=\"dataframe\">\n",
       "  <thead>\n",
       "    <tr style=\"text-align: right;\">\n",
       "      <th></th>\n",
       "      <th>Case ID</th>\n",
       "      <th>Type of cyber Attack</th>\n",
       "      <th>Process 1</th>\n",
       "      <th>Process 2</th>\n",
       "      <th>Process 3</th>\n",
       "      <th>Process 4</th>\n",
       "      <th>Process 5</th>\n",
       "      <th>Process 6</th>\n",
       "      <th>Process 7</th>\n",
       "      <th>Process 8</th>\n",
       "    </tr>\n",
       "  </thead>\n",
       "  <tbody>\n",
       "    <tr>\n",
       "      <th>0</th>\n",
       "      <td>1</td>\n",
       "      <td>Malware</td>\n",
       "      <td>Reconnaissance:</td>\n",
       "      <td>Delivery</td>\n",
       "      <td>Exploitation</td>\n",
       "      <td>Installation</td>\n",
       "      <td>Command and Control (C2)</td>\n",
       "      <td>Propagation</td>\n",
       "      <td>Evasion</td>\n",
       "      <td>Execution of Payload</td>\n",
       "    </tr>\n",
       "    <tr>\n",
       "      <th>1</th>\n",
       "      <td>2</td>\n",
       "      <td>Phishing</td>\n",
       "      <td>Target Selection</td>\n",
       "      <td>Message Crafting</td>\n",
       "      <td>Social Engineering</td>\n",
       "      <td>Delivery</td>\n",
       "      <td>Clicking the Link</td>\n",
       "      <td>Payload Delivery</td>\n",
       "      <td>Data Collection</td>\n",
       "      <td>Post-Attack Activities</td>\n",
       "    </tr>\n",
       "    <tr>\n",
       "      <th>2</th>\n",
       "      <td>3</td>\n",
       "      <td>Ransomware</td>\n",
       "      <td>Delivery</td>\n",
       "      <td>Execution</td>\n",
       "      <td>Encryption</td>\n",
       "      <td>Ransom Note</td>\n",
       "      <td>Payment</td>\n",
       "      <td>Decryption (optional)</td>\n",
       "      <td>NaN</td>\n",
       "      <td>NaN</td>\n",
       "    </tr>\n",
       "    <tr>\n",
       "      <th>3</th>\n",
       "      <td>4</td>\n",
       "      <td>SQL injection</td>\n",
       "      <td>Identifying Vulnerable Points</td>\n",
       "      <td>Understanding the Database Structure</td>\n",
       "      <td>Crafting Malicious Input</td>\n",
       "      <td>Injection</td>\n",
       "      <td>Exploitation</td>\n",
       "      <td>Data Extraction or Modification</td>\n",
       "      <td>NaN</td>\n",
       "      <td>NaN</td>\n",
       "    </tr>\n",
       "    <tr>\n",
       "      <th>4</th>\n",
       "      <td>5</td>\n",
       "      <td>Denial-of-service (DoS)</td>\n",
       "      <td>Target Selection</td>\n",
       "      <td>Resource Exhaustion</td>\n",
       "      <td>Service Disruption</td>\n",
       "      <td>No Further Action</td>\n",
       "      <td>NaN</td>\n",
       "      <td>NaN</td>\n",
       "      <td>NaN</td>\n",
       "      <td>NaN</td>\n",
       "    </tr>\n",
       "    <tr>\n",
       "      <th>...</th>\n",
       "      <td>...</td>\n",
       "      <td>...</td>\n",
       "      <td>...</td>\n",
       "      <td>...</td>\n",
       "      <td>...</td>\n",
       "      <td>...</td>\n",
       "      <td>...</td>\n",
       "      <td>...</td>\n",
       "      <td>...</td>\n",
       "      <td>...</td>\n",
       "    </tr>\n",
       "    <tr>\n",
       "      <th>104</th>\n",
       "      <td>106</td>\n",
       "      <td>BadUSB Attacks</td>\n",
       "      <td>Malicious Firmware Installation</td>\n",
       "      <td>Device Connection</td>\n",
       "      <td>Automated Exploitation</td>\n",
       "      <td>NaN</td>\n",
       "      <td>NaN</td>\n",
       "      <td>NaN</td>\n",
       "      <td>NaN</td>\n",
       "      <td>NaN</td>\n",
       "    </tr>\n",
       "    <tr>\n",
       "      <th>105</th>\n",
       "      <td>107</td>\n",
       "      <td>Social Media Impersonation</td>\n",
       "      <td>Target Selection</td>\n",
       "      <td>Profile Creation</td>\n",
       "      <td>Engagement</td>\n",
       "      <td>NaN</td>\n",
       "      <td>NaN</td>\n",
       "      <td>NaN</td>\n",
       "      <td>NaN</td>\n",
       "      <td>NaN</td>\n",
       "    </tr>\n",
       "    <tr>\n",
       "      <th>106</th>\n",
       "      <td>108</td>\n",
       "      <td>Bait-and-Switch Attacks</td>\n",
       "      <td>Initial Legitimate Interaction</td>\n",
       "      <td>Substitution</td>\n",
       "      <td>Exploitation</td>\n",
       "      <td>NaN</td>\n",
       "      <td>NaN</td>\n",
       "      <td>NaN</td>\n",
       "      <td>NaN</td>\n",
       "      <td>NaN</td>\n",
       "    </tr>\n",
       "    <tr>\n",
       "      <th>107</th>\n",
       "      <td>109</td>\n",
       "      <td>Firmware Rootkits</td>\n",
       "      <td>Identification of Target Devices</td>\n",
       "      <td>Exploitation</td>\n",
       "      <td>Persistence</td>\n",
       "      <td>NaN</td>\n",
       "      <td>NaN</td>\n",
       "      <td>NaN</td>\n",
       "      <td>NaN</td>\n",
       "      <td>NaN</td>\n",
       "    </tr>\n",
       "    <tr>\n",
       "      <th>108</th>\n",
       "      <td>110</td>\n",
       "      <td>Shadow IT Exploitation</td>\n",
       "      <td>Identification of Shadow IT</td>\n",
       "      <td>Vulnerability Assessment</td>\n",
       "      <td>Exploitation</td>\n",
       "      <td>NaN</td>\n",
       "      <td>NaN</td>\n",
       "      <td>NaN</td>\n",
       "      <td>NaN</td>\n",
       "      <td>NaN</td>\n",
       "    </tr>\n",
       "  </tbody>\n",
       "</table>\n",
       "<p>109 rows × 10 columns</p>\n",
       "</div>"
      ],
      "text/plain": [
       "     Case ID       Type of cyber Attack                          Process 1  \\\n",
       "0          1                     Malware                   Reconnaissance:   \n",
       "1          2                    Phishing                  Target Selection   \n",
       "2          3                  Ransomware                          Delivery   \n",
       "3          4               SQL injection     Identifying Vulnerable Points   \n",
       "4          5     Denial-of-service (DoS)                  Target Selection   \n",
       "..       ...                         ...                               ...   \n",
       "104      106              BadUSB Attacks   Malicious Firmware Installation   \n",
       "105      107  Social Media Impersonation                  Target Selection   \n",
       "106      108     Bait-and-Switch Attacks    Initial Legitimate Interaction   \n",
       "107      109           Firmware Rootkits  Identification of Target Devices   \n",
       "108      110      Shadow IT Exploitation       Identification of Shadow IT   \n",
       "\n",
       "                                Process 2                Process 3   \\\n",
       "0                                Delivery              Exploitation   \n",
       "1                        Message Crafting        Social Engineering   \n",
       "2                               Execution                Encryption   \n",
       "3    Understanding the Database Structure  Crafting Malicious Input   \n",
       "4                     Resource Exhaustion        Service Disruption   \n",
       "..                                    ...                       ...   \n",
       "104                     Device Connection    Automated Exploitation   \n",
       "105                      Profile Creation                Engagement   \n",
       "106                          Substitution              Exploitation   \n",
       "107                          Exploitation               Persistence   \n",
       "108              Vulnerability Assessment              Exploitation   \n",
       "\n",
       "             Process 4                 Process 5  \\\n",
       "0         Installation  Command and Control (C2)   \n",
       "1             Delivery         Clicking the Link   \n",
       "2          Ransom Note                   Payment   \n",
       "3            Injection              Exploitation   \n",
       "4    No Further Action                       NaN   \n",
       "..                 ...                       ...   \n",
       "104                NaN                       NaN   \n",
       "105                NaN                       NaN   \n",
       "106                NaN                       NaN   \n",
       "107                NaN                       NaN   \n",
       "108                NaN                       NaN   \n",
       "\n",
       "                           Process 6        Process 7               Process 8  \n",
       "0                        Propagation          Evasion    Execution of Payload  \n",
       "1                   Payload Delivery  Data Collection  Post-Attack Activities  \n",
       "2              Decryption (optional)              NaN                     NaN  \n",
       "3    Data Extraction or Modification              NaN                     NaN  \n",
       "4                                NaN              NaN                     NaN  \n",
       "..                               ...              ...                     ...  \n",
       "104                              NaN              NaN                     NaN  \n",
       "105                              NaN              NaN                     NaN  \n",
       "106                              NaN              NaN                     NaN  \n",
       "107                              NaN              NaN                     NaN  \n",
       "108                              NaN              NaN                     NaN  \n",
       "\n",
       "[109 rows x 10 columns]"
      ]
     },
     "execution_count": 14,
     "metadata": {},
     "output_type": "execute_result"
    }
   ],
   "source": [
    "data.drop(columns=['Process 9','Process 10','Process 11'])"
   ]
  },
  {
   "cell_type": "code",
   "execution_count": 15,
   "metadata": {
    "editable": false,
    "execution": {
     "iopub.execute_input": "2023-12-14T07:52:43.256769Z",
     "iopub.status.busy": "2023-12-14T07:52:43.254124Z",
     "iopub.status.idle": "2023-12-14T07:52:43.280118Z",
     "shell.execute_reply": "2023-12-14T07:52:43.278758Z",
     "shell.execute_reply.started": "2023-12-14T07:52:43.256711Z"
    }
   },
   "outputs": [
    {
     "data": {
      "text/html": [
       "<div>\n",
       "<style scoped>\n",
       "    .dataframe tbody tr th:only-of-type {\n",
       "        vertical-align: middle;\n",
       "    }\n",
       "\n",
       "    .dataframe tbody tr th {\n",
       "        vertical-align: top;\n",
       "    }\n",
       "\n",
       "    .dataframe thead th {\n",
       "        text-align: right;\n",
       "    }\n",
       "</style>\n",
       "<table border=\"1\" class=\"dataframe\">\n",
       "  <thead>\n",
       "    <tr style=\"text-align: right;\">\n",
       "      <th></th>\n",
       "      <th>Case ID</th>\n",
       "      <th>Type of cyber Attack</th>\n",
       "      <th>Process 1</th>\n",
       "      <th>Process 2</th>\n",
       "      <th>Process 3</th>\n",
       "      <th>Process 4</th>\n",
       "      <th>Process 5</th>\n",
       "      <th>Process 6</th>\n",
       "      <th>Process 7</th>\n",
       "      <th>Process 8</th>\n",
       "      <th>Process 9</th>\n",
       "      <th>Process 10</th>\n",
       "      <th>Process 11</th>\n",
       "    </tr>\n",
       "  </thead>\n",
       "  <tbody>\n",
       "    <tr>\n",
       "      <th>57</th>\n",
       "      <td>59</td>\n",
       "      <td>Side-Channel Attacks</td>\n",
       "      <td>Monitoring Physical Side Channels</td>\n",
       "      <td>Monitoring Physical Side Channels</td>\n",
       "      <td>NaN</td>\n",
       "      <td>NaN</td>\n",
       "      <td>NaN</td>\n",
       "      <td>NaN</td>\n",
       "      <td>NaN</td>\n",
       "      <td>NaN</td>\n",
       "      <td>NaN</td>\n",
       "      <td>NaN</td>\n",
       "      <td>NaN</td>\n",
       "    </tr>\n",
       "  </tbody>\n",
       "</table>\n",
       "</div>"
      ],
      "text/plain": [
       "    Case ID Type of cyber Attack                           Process 1  \\\n",
       "57       59  Side-Channel Attacks  Monitoring Physical Side Channels   \n",
       "\n",
       "                            Process 2 Process 3  Process 4 Process 5  \\\n",
       "57  Monitoring Physical Side Channels        NaN       NaN       NaN   \n",
       "\n",
       "   Process 6 Process 7 Process 8 Process 9  Process 10  Process 11  \n",
       "57       NaN       NaN       NaN       NaN         NaN         NaN  "
      ]
     },
     "execution_count": 15,
     "metadata": {},
     "output_type": "execute_result"
    }
   ],
   "source": [
    "data[data['Process 1']=='Monitoring Physical Side Channels']"
   ]
  },
  {
   "cell_type": "code",
   "execution_count": 16,
   "metadata": {
    "editable": false,
    "execution": {
     "iopub.execute_input": "2023-12-14T07:52:43.282315Z",
     "iopub.status.busy": "2023-12-14T07:52:43.281458Z",
     "iopub.status.idle": "2023-12-14T07:52:43.290916Z",
     "shell.execute_reply": "2023-12-14T07:52:43.289268Z",
     "shell.execute_reply.started": "2023-12-14T07:52:43.282278Z"
    }
   },
   "outputs": [],
   "source": [
    "crime_types = data.iloc[:,1:2]\n",
    "crime_types = crime_types.values.tolist()\n",
    "crime_process_steps = data.iloc[:, 2:].values.tolist()\n",
    "lowercase_steps = [[step.lower() if isinstance(step, str) else str(step) for step in sublist] for sublist in crime_process_steps]\n",
    "flattened_steps = [step for sublist in lowercase_steps for step in sublist]"
   ]
  },
  {
   "cell_type": "code",
   "execution_count": 17,
   "metadata": {
    "editable": false,
    "execution": {
     "iopub.execute_input": "2023-12-14T07:52:43.293160Z",
     "iopub.status.busy": "2023-12-14T07:52:43.292481Z",
     "iopub.status.idle": "2023-12-14T07:52:43.316901Z",
     "shell.execute_reply": "2023-12-14T07:52:43.315522Z",
     "shell.execute_reply.started": "2023-12-14T07:52:43.293116Z"
    }
   },
   "outputs": [],
   "source": [
    "vectorizer = TfidfVectorizer()\n",
    "crime_process_vectors = vectorizer.fit_transform(flattened_steps)"
   ]
  },
  {
   "cell_type": "code",
   "execution_count": 18,
   "metadata": {
    "editable": false,
    "execution": {
     "iopub.execute_input": "2023-12-14T07:52:43.320792Z",
     "iopub.status.busy": "2023-12-14T07:52:43.319910Z",
     "iopub.status.idle": "2023-12-14T07:52:43.340291Z",
     "shell.execute_reply": "2023-12-14T07:52:43.339107Z",
     "shell.execute_reply.started": "2023-12-14T07:52:43.320708Z"
    }
   },
   "outputs": [
    {
     "data": {
      "text/html": [
       "<style>#sk-container-id-2 {color: black;background-color: white;}#sk-container-id-2 pre{padding: 0;}#sk-container-id-2 div.sk-toggleable {background-color: white;}#sk-container-id-2 label.sk-toggleable__label {cursor: pointer;display: block;width: 100%;margin-bottom: 0;padding: 0.3em;box-sizing: border-box;text-align: center;}#sk-container-id-2 label.sk-toggleable__label-arrow:before {content: \"▸\";float: left;margin-right: 0.25em;color: #696969;}#sk-container-id-2 label.sk-toggleable__label-arrow:hover:before {color: black;}#sk-container-id-2 div.sk-estimator:hover label.sk-toggleable__label-arrow:before {color: black;}#sk-container-id-2 div.sk-toggleable__content {max-height: 0;max-width: 0;overflow: hidden;text-align: left;background-color: #f0f8ff;}#sk-container-id-2 div.sk-toggleable__content pre {margin: 0.2em;color: black;border-radius: 0.25em;background-color: #f0f8ff;}#sk-container-id-2 input.sk-toggleable__control:checked~div.sk-toggleable__content {max-height: 200px;max-width: 100%;overflow: auto;}#sk-container-id-2 input.sk-toggleable__control:checked~label.sk-toggleable__label-arrow:before {content: \"▾\";}#sk-container-id-2 div.sk-estimator input.sk-toggleable__control:checked~label.sk-toggleable__label {background-color: #d4ebff;}#sk-container-id-2 div.sk-label input.sk-toggleable__control:checked~label.sk-toggleable__label {background-color: #d4ebff;}#sk-container-id-2 input.sk-hidden--visually {border: 0;clip: rect(1px 1px 1px 1px);clip: rect(1px, 1px, 1px, 1px);height: 1px;margin: -1px;overflow: hidden;padding: 0;position: absolute;width: 1px;}#sk-container-id-2 div.sk-estimator {font-family: monospace;background-color: #f0f8ff;border: 1px dotted black;border-radius: 0.25em;box-sizing: border-box;margin-bottom: 0.5em;}#sk-container-id-2 div.sk-estimator:hover {background-color: #d4ebff;}#sk-container-id-2 div.sk-parallel-item::after {content: \"\";width: 100%;border-bottom: 1px solid gray;flex-grow: 1;}#sk-container-id-2 div.sk-label:hover label.sk-toggleable__label {background-color: #d4ebff;}#sk-container-id-2 div.sk-serial::before {content: \"\";position: absolute;border-left: 1px solid gray;box-sizing: border-box;top: 0;bottom: 0;left: 50%;z-index: 0;}#sk-container-id-2 div.sk-serial {display: flex;flex-direction: column;align-items: center;background-color: white;padding-right: 0.2em;padding-left: 0.2em;position: relative;}#sk-container-id-2 div.sk-item {position: relative;z-index: 1;}#sk-container-id-2 div.sk-parallel {display: flex;align-items: stretch;justify-content: center;background-color: white;position: relative;}#sk-container-id-2 div.sk-item::before, #sk-container-id-2 div.sk-parallel-item::before {content: \"\";position: absolute;border-left: 1px solid gray;box-sizing: border-box;top: 0;bottom: 0;left: 50%;z-index: -1;}#sk-container-id-2 div.sk-parallel-item {display: flex;flex-direction: column;z-index: 1;position: relative;background-color: white;}#sk-container-id-2 div.sk-parallel-item:first-child::after {align-self: flex-end;width: 50%;}#sk-container-id-2 div.sk-parallel-item:last-child::after {align-self: flex-start;width: 50%;}#sk-container-id-2 div.sk-parallel-item:only-child::after {width: 0;}#sk-container-id-2 div.sk-dashed-wrapped {border: 1px dashed gray;margin: 0 0.4em 0.5em 0.4em;box-sizing: border-box;padding-bottom: 0.4em;background-color: white;}#sk-container-id-2 div.sk-label label {font-family: monospace;font-weight: bold;display: inline-block;line-height: 1.2em;}#sk-container-id-2 div.sk-label-container {text-align: center;}#sk-container-id-2 div.sk-container {/* jupyter's `normalize.less` sets `[hidden] { display: none; }` but bootstrap.min.css set `[hidden] { display: none !important; }` so we also need the `!important` here to be able to override the default hidden behavior on the sphinx rendered scikit-learn.org. See: https://github.com/scikit-learn/scikit-learn/issues/21755 */display: inline-block !important;position: relative;}#sk-container-id-2 div.sk-text-repr-fallback {display: none;}</style><div id=\"sk-container-id-2\" class=\"sk-top-container\"><div class=\"sk-text-repr-fallback\"><pre>NearestNeighbors()</pre><b>In a Jupyter environment, please rerun this cell to show the HTML representation or trust the notebook. <br />On GitHub, the HTML representation is unable to render, please try loading this page with nbviewer.org.</b></div><div class=\"sk-container\" hidden><div class=\"sk-item\"><div class=\"sk-estimator sk-toggleable\"><input class=\"sk-toggleable__control sk-hidden--visually\" id=\"sk-estimator-id-2\" type=\"checkbox\" checked><label for=\"sk-estimator-id-2\" class=\"sk-toggleable__label sk-toggleable__label-arrow\">NearestNeighbors</label><div class=\"sk-toggleable__content\"><pre>NearestNeighbors()</pre></div></div></div></div></div>"
      ],
      "text/plain": [
       "NearestNeighbors()"
      ]
     },
     "execution_count": 18,
     "metadata": {},
     "output_type": "execute_result"
    }
   ],
   "source": [
    "knn = NearestNeighbors(n_neighbors=5)\n",
    "knn.fit(crime_process_vectors)\n"
   ]
  },
  {
   "cell_type": "markdown",
   "metadata": {
    "editable": false
   },
   "source": [
    "# errored one"
   ]
  },
  {
   "cell_type": "code",
   "execution_count": 19,
   "metadata": {
    "editable": false,
    "execution": {
     "iopub.execute_input": "2023-12-14T07:52:43.366735Z",
     "iopub.status.busy": "2023-12-14T07:52:43.366207Z",
     "iopub.status.idle": "2023-12-14T07:52:43.390777Z",
     "shell.execute_reply": "2023-12-14T07:52:43.389620Z",
     "shell.execute_reply.started": "2023-12-14T07:52:43.366692Z"
    }
   },
   "outputs": [
    {
     "name": "stdout",
     "output_type": "stream",
     "text": [
      "Neighbors: [[ 57  11  44 275  79]\n",
      " [ 12  35 650   1   0]]\n",
      "Index out of bounds. Max index: 275, Data length: 109\n",
      "[]\n"
     ]
    }
   ],
   "source": [
    "def predict_next_steps(crime_type, crime_process_steps):\n",
    "    # Assuming you have previously defined vectorizer, knn, and data\n",
    "    \n",
    "    crime_process_steps_vector = vectorizer.transform(crime_process_steps)\n",
    "    \n",
    "    neighbors = knn.kneighbors(crime_process_steps_vector, return_distance=False)\n",
    "\n",
    "    print(\"Neighbors:\", neighbors)\n",
    "\n",
    "    if not any(neighbors[0]):\n",
    "        print(\"No neighbors found.\")\n",
    "        return []\n",
    "\n",
    "    max_index = max(neighbors[0])\n",
    "    if max_index >= len(data):\n",
    "        print(f\"Index out of bounds. Max index: {max_index}, Data length: {len(data)}\")\n",
    "        return []\n",
    "\n",
    "    neighboring_crime_processes = data.iloc[neighbors[0], 2:].values.tolist()\n",
    "\n",
    "    next_steps = []\n",
    "    for crime_process in neighboring_crime_processes:\n",
    "        for step in crime_process:\n",
    "              if step not in crime_process_steps:\n",
    "                next_steps.append(step)\n",
    "\n",
    "\n",
    "    return next_steps\n",
    "\n",
    "# Example usage\n",
    "crime_type = 'Phishing'\n",
    "crime_process_steps = ['Target Selection', 'Message Crafting']\n",
    "next_steps = predict_next_steps(crime_type, crime_process_steps)\n",
    "print(next_steps)"
   ]
  },
  {
   "cell_type": "markdown",
   "metadata": {
    "editable": false
   },
   "source": [
    "# all the steps are presented"
   ]
  },
  {
   "cell_type": "code",
   "execution_count": 21,
   "metadata": {
    "editable": false,
    "execution": {
     "iopub.execute_input": "2023-12-14T07:53:05.379666Z",
     "iopub.status.busy": "2023-12-14T07:53:05.378848Z",
     "iopub.status.idle": "2023-12-14T07:53:05.404378Z",
     "shell.execute_reply": "2023-12-14T07:53:05.402700Z",
     "shell.execute_reply.started": "2023-12-14T07:53:05.379607Z"
    }
   },
   "outputs": [
    {
     "name": "stdout",
     "output_type": "stream",
     "text": [
      "['Malicious Firmware Installation', 'Device Connection', 'Automated Exploitation', 'Introduction of Malicious Code', 'Interception of Function Calls', 'Persistence', 'Execution', 'Encryption', 'Ransom Note', 'Payment', 'Decryption (optional)', 'Network Interception', 'Packet Sniffing', 'Session Hijacking', 'Data Interception', 'SSL Stripping', 'Spoofing', 'FTP Connection Setup', 'Bounce Target Identification', 'Bounce Attack Execution']\n"
     ]
    }
   ],
   "source": [
    "def predict_next_steps(crime_type, crime_process_steps):\n",
    "    # Assuming you have previously defined vectorizer, knn, and data\n",
    "    \n",
    "    crime_process_steps_vector = vectorizer.transform(crime_process_steps)\n",
    "    \n",
    "    neighbors = knn.kneighbors(crime_process_steps_vector, return_distance=False)\n",
    "\n",
    "    if not any(neighbors[0]):\n",
    "        print(\"No neighbors found.\")\n",
    "        return []\n",
    "\n",
    "    # Use modulo to wrap around indices\n",
    "    neighboring_indices = [index % len(data) for index in neighbors[0]]\n",
    "\n",
    "    neighboring_crime_processes = data.iloc[neighboring_indices, 2:].values.tolist()\n",
    "\n",
    "    next_steps = []\n",
    "    for crime_process in neighboring_crime_processes:\n",
    "        for step in crime_process:\n",
    "            if not pd.isna(step) and step not in crime_process_steps:\n",
    "                next_steps.append(step)\n",
    "\n",
    "    return next_steps\n",
    "\n",
    "# Example usage\n",
    "crime_type = 'Malware'\n",
    "crime_process_steps = ['Exploitation','Delivery', 'Installation']\n",
    "next_steps = predict_next_steps(crime_type, crime_process_steps)\n",
    "print(next_steps)\n"
   ]
  },
  {
   "cell_type": "markdown",
   "metadata": {
    "editable": false
   },
   "source": [
    "# one step is predicted"
   ]
  },
  {
   "cell_type": "code",
   "execution_count": 22,
   "metadata": {
    "editable": false,
    "execution": {
     "iopub.execute_input": "2023-12-14T08:00:09.147698Z",
     "iopub.status.busy": "2023-12-14T08:00:09.146894Z",
     "iopub.status.idle": "2023-12-14T08:00:09.199859Z",
     "shell.execute_reply": "2023-12-14T08:00:09.198685Z",
     "shell.execute_reply.started": "2023-12-14T08:00:09.147643Z"
    }
   },
   "outputs": [
    {
     "name": "stdout",
     "output_type": "stream",
     "text": [
      "Execution\n"
     ]
    }
   ],
   "source": [
    "import pandas as pd\n",
    "import numpy as np\n",
    "from sklearn.feature_extraction.text import TfidfVectorizer\n",
    "from sklearn.neighbors import NearestNeighbors\n",
    "\n",
    "data = pd.read_csv('/kaggle/input/crime-data/crime data.csv')\n",
    "data.drop(columns=['Process 9', 'Process 10', 'Process 11'])\n",
    "\n",
    "crime_types = data.iloc[:, 1:2]\n",
    "crime_types = crime_types.values.tolist()\n",
    "\n",
    "crime_process_steps = data.iloc[:, 2:].values.tolist()\n",
    "\n",
    "lowercase_steps = [[step.lower() if isinstance(step, str) else str(step) for step in sublist] for sublist in crime_process_steps]\n",
    "\n",
    "flattened_steps = [step for sublist in lowercase_steps for step in sublist]\n",
    "\n",
    "vectorizer = TfidfVectorizer()\n",
    "crime_process_vectors = vectorizer.fit_transform(flattened_steps)\n",
    "\n",
    "knn = NearestNeighbors(n_neighbors=6)\n",
    "knn.fit(crime_process_vectors)\n",
    "\n",
    "\n",
    "def predict_next_step(crime_type, crime_process_steps):\n",
    "    # Assuming you have previously defined vectorizer, knn, and data\n",
    "\n",
    "    crime_process_steps_vector = vectorizer.transform(crime_process_steps)\n",
    "\n",
    "    neighbors = knn.kneighbors(crime_process_steps_vector, return_distance=False)[0]\n",
    "\n",
    "    if not any(neighbors):\n",
    "        print(\"No neighbors found.\")\n",
    "        return None\n",
    "\n",
    "    # Use modulo to wrap around indices\n",
    "    neighboring_index = neighbors[0] % len(data)\n",
    "\n",
    "    neighboring_crime_process = data.iloc[neighboring_index, 2:].values\n",
    "\n",
    "    next_step = None\n",
    "    for step in neighboring_crime_process:\n",
    "        if not pd.isna(step) and step not in crime_process_steps:\n",
    "            next_step = step\n",
    "            break\n",
    "\n",
    "    return next_step\n",
    "\n",
    "\n",
    "# Example usage\n",
    "crime_type = 'Malware'\n",
    "crime_process_steps = ['Exploitation', 'Delivery','Installation']\n",
    "next_step = predict_next_step(crime_type, crime_process_steps)\n",
    "print(next_step)\n"
   ]
  },
  {
   "cell_type": "markdown",
   "metadata": {
    "editable": false
   },
   "source": [
    "#  USING LSTM"
   ]
  },
  {
   "cell_type": "code",
   "execution_count": null,
   "metadata": {
    "editable": false,
    "execution": {
     "iopub.status.busy": "2023-12-14T07:52:43.468604Z",
     "iopub.status.idle": "2023-12-14T07:52:43.470659Z",
     "shell.execute_reply": "2023-12-14T07:52:43.470237Z",
     "shell.execute_reply.started": "2023-12-14T07:52:43.470181Z"
    }
   },
   "outputs": [],
   "source": [
    "# Create a vocabulary from the flattened steps\n",
    "vocabulary = list(set(flattened_steps))\n",
    "\n",
    "# Create a TfidfVectorizer to convert steps into numerical vectors\n",
    "vectorizer = TfidfVectorizer(vocabulary=vocabulary)\n",
    "\n",
    "# Convert crime process steps into numerical vectors\n",
    "crime_process_vectors = vectorizer.fit_transform(flattened_steps)\n",
    "\n",
    "# Create a dictionary to map steps to their corresponding vector indices\n",
    "step_indices = {step: index for index, step in enumerate(vocabulary)}\n",
    "\n",
    "# Convert crime process steps into sequences of indices\n",
    "step_sequences = [[step_indices[step] for step in sublist] for sublist in lowercase_steps]\n",
    "\n",
    "# Pad sequences to the same length\n",
    "max_length = max(len(sequence) for sequence in step_sequences)\n",
    "step_sequences_padded = pad_sequences(step_sequences, maxlen=max_length, padding='post')\n",
    "\n",
    "# Create an LSTM model\n",
    "model = Sequential()\n",
    "model.add(Embedding(len(vocabulary), 128, input_length=max_length))\n",
    "model.add(LSTM(64))\n",
    "model.add(Dense(len(vocabulary), activation='softmax'))\n",
    "model.compile(loss='categorical_crossentropy', optimizer='adam', metrics=['accuracy'])\n",
    "\n",
    "# Train the LSTM model\n",
    "model.fit(step_sequences_padded, crime_types, epochs=10, batch_size=64)\n",
    "\n",
    "def predict_next_step(crime_type, crime_process_steps):\n",
    "    # Convert crime process steps into numerical vectors\n",
    "    crime_process_vectors = vectorizer.transform(crime_process_steps)\n",
    "\n",
    "    # Convert crime process vectors into sequences of indices\n",
    "    step_sequences = [[step_indices[step] for step in sublist] for sublist in lowercase_steps]\n",
    "\n",
    "    # Pad sequences to the same length\n",
    "    step_sequences_padded = pad_sequences(step_sequences, maxlen=max_length, padding='post')\n",
    "\n",
    "    # Predict the next step\n",
    "    next_step_predictions = model.predict(step_sequences_padded)\n",
    "\n",
    "    # Convert next step predictions into step indices\n",
    "    next_step_indices = np.argmax(next_step_predictions, axis=1)\n",
    "\n",
    "    # Convert next step indices into steps\n",
    "    next_steps = [vocabulary[index] for index in next_step_indices]\n",
    "\n",
    "    return next_steps\n",
    "\n",
    "# Example usage\n",
    "crime_type = 'Malware'\n",
    "crime_process_steps = ['Exploitation', 'Delivery', 'Installation']\n",
    "next_steps = predict_next_step(crime_type, crime_process_steps)\n",
    "print(next_steps)\n"
   ]
  },
  {
   "cell_type": "code",
   "execution_count": null,
   "metadata": {
    "editable": false,
    "execution": {
     "iopub.status.busy": "2023-12-14T07:52:43.472966Z",
     "iopub.status.idle": "2023-12-14T07:52:43.473719Z",
     "shell.execute_reply": "2023-12-14T07:52:43.473358Z",
     "shell.execute_reply.started": "2023-12-14T07:52:43.473329Z"
    }
   },
   "outputs": [],
   "source": [
    "\n",
    "# Preprocessing\n",
    "tokenizer = Tokenizer(filters='')\n",
    "\n",
    "for text in data.values.flatten():\n",
    "    if isinstance(text, str):\n",
    "        tokenizer.fit_on_texts([text])\n",
    "    else:\n",
    "        # Ignore non-string elements\n",
    "        pass\n",
    "\n",
    "total_words = len(tokenizer.word_index) + 1\n",
    "\n",
    "input_sequences = []\n",
    "max_seq_length = 0  # Initialize max sequence length\n",
    "\n",
    "for row in data.iterrows():\n",
    "    row_values = row[1].values[1:]\n",
    "    curr_seq_length = len(row_values)\n",
    "    max_seq_length = max(max_seq_length, curr_seq_length)\n",
    "\n",
    "    for i in range(curr_seq_length - 1):\n",
    "        sequence = row_values[:i + 1]\n",
    "        next_step = row_values[i + 1]\n",
    "\n",
    "        # Pad the sequence with zeros to match the maximum length\n",
    "        padded_sequence = sequence + ['0'] * (max_seq_length - len(sequence))\n",
    "        input_sequences.append((padded_sequence, next_step))\n",
    "\n",
    "input_sequences = [(tokenizer.texts_to_sequences(seq), tokenizer.texts_to_sequences([next_step]))\n",
    "                    for seq, next_step in input_sequences]\n",
    "\n",
    "X = np.array([item[0][0] for item in input_sequences])\n",
    "y = np.array([item[1][0][0] for item in input_sequences])\n",
    "\n",
    "\n",
    "\n",
    "'''\n",
    "# Create input sequences and labels\n",
    "input_sequences = []\n",
    "for row in data.iterrows():\n",
    "    row_values = row[1].values[1:]\n",
    "    for i in range(len(row_values)):\n",
    "        if i < len(row_values) - 1:\n",
    "            sequence = row_values[:i + 1]\n",
    "            next_step = row_values[i + 1]\n",
    "\n",
    "            if isinstance(next_step, str):\n",
    "                input_sequences.append((tokenizer.texts_to_sequences(sequence), tokenizer.texts_to_sequences([next_step])))\n",
    "            else:\n",
    "                # Ignore non-string next steps\n",
    "                pass\n",
    "\n",
    "\n",
    "X = np.array([item[0][0] for item in input_sequences])\n",
    "y = np.array([item[1][0][0] for item in input_sequences])'''\n",
    "\n",
    "# Pad sequences\n",
    "X = pad_sequences(X, padding='post')\n",
    "y = np.expand_dims(y, axis=-1)\n",
    "\n",
    "# Split the dataset into training and testing sets\n",
    "X_train, X_test, y_train, y_test = train_test_split(X, y, test_size=0.2, random_state=42)\n",
    "\n",
    "# Build the sequence-to-sequence model with attention\n",
    "input_layer = Input(shape=(X.shape[1],))\n",
    "embedding_layer = Embedding(input_dim=total_words, output_dim=50, input_length=X.shape[1])(input_layer)\n",
    "lstm_layer = LSTM(100, return_sequences=True)(embedding_layer)\n",
    "attention_layer = Attention()([lstm_layer, lstm_layer])\n",
    "output_layer = Dense(total_words, activation='softmax')(attention_layer)\n",
    "\n",
    "model = Model(inputs=input_layer, outputs=output_layer)\n",
    "\n",
    "# Compile the model\n",
    "model.compile(loss='sparse_categorical_crossentropy', optimizer='adam', metrics=['accuracy'])\n",
    "\n",
    "# Train the model\n",
    "model.fit(X_train, y_train, epochs=10, batch_size=32, validation_data=(X_test, y_test))\n",
    "\n",
    "# Now, you can use the trained model for predictions\n",
    "# For example, if you have a new set of steps, you can predict the next steps\n",
    "new_steps = [\"Delivery\", \"Exploitation\"]\n",
    "new_steps_seq = [tokenizer.texts_to_sequences(new_steps)]\n",
    "new_steps_padded = pad_sequences(new_steps_seq, maxlen=X.shape[1], padding='post')\n",
    "\n",
    "# Predict the next steps\n",
    "predicted_steps = model.predict(new_steps_padded)\n",
    "predicted_next_step = tokenizer.index_word[np.argmax(predicted_steps)]\n",
    "\n",
    "# Print the predicted next steps\n",
    "print(f\"Predicted next step: {predicted_next_step}\")\n"
   ]
  },
  {
   "cell_type": "markdown",
   "metadata": {
    "editable": false
   },
   "source": [
    "# decision tree\n"
   ]
  },
  {
   "cell_type": "code",
   "execution_count": null,
   "metadata": {
    "editable": false,
    "execution": {
     "iopub.status.busy": "2023-12-14T07:52:43.476875Z",
     "iopub.status.idle": "2023-12-14T07:52:43.478291Z",
     "shell.execute_reply": "2023-12-14T07:52:43.477979Z",
     "shell.execute_reply.started": "2023-12-14T07:52:43.477942Z"
    }
   },
   "outputs": [],
   "source": [
    "import pandas as pd\n",
    "import numpy as np\n",
    "from sklearn.feature_extraction.text import TfidfVectorizer\n",
    "from sklearn.tree import DecisionTreeClassifier\n",
    "\n",
    "data = pd.read_csv('/kaggle/input/crime-data/crime data.csv')\n",
    "data.drop(columns=['Process 9', 'Process 10', 'Process 11'])\n",
    "\n",
    "crime_types = data.iloc[:, 1:2]\n",
    "crime_types = crime_types.values.tolist()\n",
    "\n",
    "crime_process_steps = data.iloc[:, 2:].values.tolist()\n",
    "print(\"Length of flattened_crime_types:\", len(flattened_crime_types))\n",
    "print(\"Length of crime_process_steps:\", len(crime_process_steps))\n",
    "\n",
    "\n",
    "lowercase_steps = [[step.lower() if isinstance(step, str) else str(step) for step in sublist] for sublist in crime_process_steps]\n",
    "\n",
    "flattened_steps = [step for sublist in lowercase_steps for step in sublist]\n",
    "\n",
    "vectorizer = TfidfVectorizer()\n",
    "crime_process_vectors = vectorizer.fit_transform(flattened_steps)\n",
    "\n",
    "flattened_crime_types = [crime_types[i][0] for i in range(len(crime_process_steps))]\n",
    "\n",
    "dtc = DecisionTreeClassifier()\n",
    "dtc.fit(crime_process_vectors, flattened_crime_types)\n",
    "\n",
    "\n",
    "def predict_next_step(crime_type, crime_process_steps):\n",
    "    # Assuming you have previously defined vectorizer, dtc, and data\n",
    "\n",
    "    crime_process_steps_vector = vectorizer.transform(crime_process_steps)\n",
    "\n",
    "    next_crime_type = dtc.predict(crime_process_steps_vector)[0]\n",
    "\n",
    "    next_crime_processes = data[data['crime_type'] == next_crime_type].iloc[:, 2:].values.tolist()\n",
    "\n",
    "    next_step = None\n",
    "    for crime_process in next_crime_processes:\n",
    "        for step in crime_process:\n",
    "            if not pd.isna(step) and step not in crime_process_steps:\n",
    "                next_step = step\n",
    "                break\n",
    "\n",
    "    return next_step\n",
    "\n",
    "\n",
    "# Example usage\n",
    "crime_type = 'Phishing'\n",
    "crime_process_steps = ['Target Selection', 'Message Crafting']\n",
    "next_step = predict_next_step(crime_type, crime_process_steps)\n",
    "print(next_step)\n"
   ]
  },
  {
   "cell_type": "markdown",
   "metadata": {
    "editable": false,
    "execution": {
     "iopub.execute_input": "2023-11-21T10:59:33.643731Z",
     "iopub.status.busy": "2023-11-21T10:59:33.643184Z",
     "iopub.status.idle": "2023-11-21T10:59:43.714475Z",
     "shell.execute_reply": "2023-11-21T10:59:43.709151Z",
     "shell.execute_reply.started": "2023-11-21T10:59:33.643691Z"
    }
   },
   "source": [
    "from pandas_profiling import ProfileReport\n",
    "prof = ProfileReport(df)\n",
    "prof.to_file(output_file = 'otput.html')"
   ]
  },
  {
   "cell_type": "code",
   "execution_count": null,
   "metadata": {
    "editable": false
   },
   "outputs": [],
   "source": []
  }
 ],
 "metadata": {
  "kaggle": {
   "accelerator": "none",
   "dataSources": [
    {
     "datasetId": 4034610,
     "sourceId": 7017107,
     "sourceType": "datasetVersion"
    }
   ],
   "dockerImageVersionId": 30579,
   "isGpuEnabled": false,
   "isInternetEnabled": true,
   "language": "python",
   "sourceType": "notebook"
  },
  "kernelspec": {
   "display_name": "Python 3 (ipykernel)",
   "language": "python",
   "name": "python3"
  },
  "language_info": {
   "codemirror_mode": {
    "name": "ipython",
    "version": 3
   },
   "file_extension": ".py",
   "mimetype": "text/x-python",
   "name": "python",
   "nbconvert_exporter": "python",
   "pygments_lexer": "ipython3",
   "version": "3.10.12"
  }
 },
 "nbformat": 4,
 "nbformat_minor": 4
}
